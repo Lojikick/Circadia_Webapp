{
 "cells": [
  {
   "cell_type": "code",
   "execution_count": 5,
   "id": "84c99f97-f67e-4631-95e1-9a69cd8586a9",
   "metadata": {},
   "outputs": [],
   "source": [
    "import pandas as pd\n",
    "from subprocess import Popen, PIPE\n",
    "# from sleep_utils.schedule import Sleeper, Optimal, Calendar, Event, adjust\n",
    "# from sleep_utils.sleep_score import sleep_score\n",
    "import os\n",
    "import mne\n",
    "import yasa\n",
    "import numpy as np\n",
    "import matplotlib.pyplot as plt"
   ]
  },
  {
   "cell_type": "code",
   "execution_count": 6,
   "id": "67d0fc2e-1231-43dc-9f95-5805a7507fb8",
   "metadata": {
    "tags": []
   },
   "outputs": [],
   "source": [
    "def convert_csv_to_stages(input_csv):\n",
    "    sample_data = pd.read_csv(input_csv)\n",
    "    sample_data =sample_data.fillna(0)\n",
    "    sampling_rate = 256\n",
    "    ch_names = ['TP9', 'AF7', 'AF8', 'TP10']\n",
    "    time_series = []\n",
    "    time_series.append(np.array(sample_data['ch1']))\n",
    "    time_series.append(np.array(sample_data['ch2']))\n",
    "    time_series.append(np.array(sample_data['ch3']))\n",
    "    time_series.append(np.array(sample_data['ch4']))\n",
    "    time_series = np.array(time_series)\n",
    "    info = mne.create_info(ch_names,sampling_rate)\n",
    "    raw = mne.io.RawArray(time_series, info)\n",
    "    sls = yasa.SleepStaging(raw, eeg_name=\"TP10\", metadata=dict(age=21, male=False))\n",
    "    y_pred = sls.predict()\n",
    "    df_pred = pd.DataFrame({'Stage': y_pred})\n",
    "    sleep_cycles = list(df_pred[\"Stage\"])\n",
    "    return sleep_cycles"
   ]
  },
  {
   "cell_type": "code",
   "execution_count": 7,
   "id": "cf752ae6-efdc-4c56-9f2f-c3ff803390dc",
   "metadata": {
    "tags": []
   },
   "outputs": [],
   "source": [
    "def calculate_sleep_score(input_csv):\n",
    "    # Read sleep stages from the text file\n",
    "    sleep_stages = convert_csv_to_stages(input_csv)\n",
    "    print(sleep_stages)\n",
    "\n",
    "    # Define weights for different sleep stage metrics\n",
    "    weights = {\n",
    "        'dips_n3': 20,\n",
    "        'falling_deep_sleep': 15,\n",
    "        'time_each_stage': 15,\n",
    "        'times_awake': -8,\n",
    "        'total_sleep_duration': 12,\n",
    "        'percentage_deep_sleep': 20\n",
    "    }\n",
    "\n",
    "    # Count occurrences of sleep stages\n",
    "    n3_count = sleep_stages.count(3)\n",
    "    n3_dips = sleep_stages.count(0) - 1  # transitions from non-N3 to N3\n",
    "\n",
    "    # Find the index of the first occurrence of N3\n",
    "    first_n3_index = sleep_stages.index(3) if 3 in sleep_stages else len(sleep_stages)\n",
    "\n",
    "    # Calculate the time spent in each sleep stage\n",
    "    total_intervals = len(sleep_stages)\n",
    "    total_minutes = total_intervals / 2\n",
    "    time_n1 = sleep_stages[:first_n3_index].count(1) / 2\n",
    "    time_n2 = sleep_stages[:first_n3_index].count(2) / 2\n",
    "    time_n3 = n3_count / 2\n",
    "    time_rem = sleep_stages.count(4) / 2\n",
    "\n",
    "    # Calculate total sleep duration\n",
    "    total_sleep_duration = time_n1 + time_n2 + time_n3 + time_rem\n",
    "\n",
    "    # Count the number of awakenings\n",
    "    num_awakenings = sum(1 for i in range(1, total_intervals) if sleep_stages[i] == 0 and sleep_stages[i - 1] != 0)\n",
    "\n",
    "    # Calculate percentage of deep sleep\n",
    "    percentage_deep_sleep = (time_n3 / total_minutes) * 100\n",
    "\n",
    "    # Calculate the sleep quality score based on the rubric\n",
    "    sleep_score = (\n",
    "        (n3_dips * (weights['dips_n3'] / 15)) +\n",
    "        ((first_n3_index / 2) * (weights['falling_deep_sleep'] / 10)) +\n",
    "        (((time_n1 / total_minutes) * 100) * (weights['time_each_stage'] / 25)) +\n",
    "        (((time_n2 / total_minutes) * 100) * (weights['time_each_stage'] / 25)) +\n",
    "        (((time_n3 / total_minutes) * 100) * (weights['time_each_stage'] / 25)) +\n",
    "        (((time_rem / total_minutes) * 100) * (weights['time_each_stage'] / 25)) +\n",
    "        (num_awakenings * weights['times_awake']) +\n",
    "        ((total_sleep_duration / 2) * (weights['total_sleep_duration'] / 20)) +\n",
    "        (percentage_deep_sleep * (weights['percentage_deep_sleep'] / 25))\n",
    "    )\n",
    "\n",
    "    return sleep_score"
   ]
  },
  {
   "cell_type": "code",
   "execution_count": 8,
   "id": "db03bb9f-566a-4a36-b98f-7c3340a33405",
   "metadata": {
    "tags": []
   },
   "outputs": [
    {
     "ename": "FileNotFoundError",
     "evalue": "[Errno 2] No such file or directory: 'C:\\\\Users\\\\dumbl\\\\Documents\\\\Research\\\\Circadia\\\\sleep_eeg.csv'",
     "output_type": "error",
     "traceback": [
      "\u001b[1;31m---------------------------------------------------------------------------\u001b[0m",
      "\u001b[1;31mFileNotFoundError\u001b[0m                         Traceback (most recent call last)",
      "Cell \u001b[1;32mIn[8], line 3\u001b[0m\n\u001b[0;32m      1\u001b[0m current_dir \u001b[38;5;241m=\u001b[39m os\u001b[38;5;241m.\u001b[39mgetcwd()\n\u001b[0;32m      2\u001b[0m csv_file_path \u001b[38;5;241m=\u001b[39m os\u001b[38;5;241m.\u001b[39mpath\u001b[38;5;241m.\u001b[39mjoin(current_dir, \u001b[38;5;124m\"\u001b[39m\u001b[38;5;124msleep_eeg.csv\u001b[39m\u001b[38;5;124m\"\u001b[39m)\n\u001b[1;32m----> 3\u001b[0m sleep_score_value \u001b[38;5;241m=\u001b[39m calculate_sleep_score(csv_file_path)\n\u001b[0;32m      4\u001b[0m \u001b[38;5;28mprint\u001b[39m(\u001b[38;5;124m\"\u001b[39m\u001b[38;5;124mSleep Score:\u001b[39m\u001b[38;5;124m\"\u001b[39m, sleep_score_value)\n",
      "Cell \u001b[1;32mIn[7], line 3\u001b[0m, in \u001b[0;36mcalculate_sleep_score\u001b[1;34m(input_csv)\u001b[0m\n\u001b[0;32m      1\u001b[0m \u001b[38;5;28;01mdef\u001b[39;00m \u001b[38;5;21mcalculate_sleep_score\u001b[39m(input_csv):\n\u001b[0;32m      2\u001b[0m     \u001b[38;5;66;03m# Read sleep stages from the text file\u001b[39;00m\n\u001b[1;32m----> 3\u001b[0m     sleep_stages \u001b[38;5;241m=\u001b[39m convert_csv_to_stages(input_csv)\n\u001b[0;32m      4\u001b[0m     \u001b[38;5;28mprint\u001b[39m(sleep_stages)\n\u001b[0;32m      6\u001b[0m     \u001b[38;5;66;03m# Define weights for different sleep stage metrics\u001b[39;00m\n",
      "Cell \u001b[1;32mIn[6], line 2\u001b[0m, in \u001b[0;36mconvert_csv_to_stages\u001b[1;34m(input_csv)\u001b[0m\n\u001b[0;32m      1\u001b[0m \u001b[38;5;28;01mdef\u001b[39;00m \u001b[38;5;21mconvert_csv_to_stages\u001b[39m(input_csv):\n\u001b[1;32m----> 2\u001b[0m     sample_data \u001b[38;5;241m=\u001b[39m pd\u001b[38;5;241m.\u001b[39mread_csv(input_csv)\n\u001b[0;32m      3\u001b[0m     sample_data \u001b[38;5;241m=\u001b[39msample_data\u001b[38;5;241m.\u001b[39mfillna(\u001b[38;5;241m0\u001b[39m)\n\u001b[0;32m      4\u001b[0m     sampling_rate \u001b[38;5;241m=\u001b[39m \u001b[38;5;241m256\u001b[39m\n",
      "File \u001b[1;32m~\\anaconda3\\Lib\\site-packages\\pandas\\io\\parsers\\readers.py:912\u001b[0m, in \u001b[0;36mread_csv\u001b[1;34m(filepath_or_buffer, sep, delimiter, header, names, index_col, usecols, dtype, engine, converters, true_values, false_values, skipinitialspace, skiprows, skipfooter, nrows, na_values, keep_default_na, na_filter, verbose, skip_blank_lines, parse_dates, infer_datetime_format, keep_date_col, date_parser, date_format, dayfirst, cache_dates, iterator, chunksize, compression, thousands, decimal, lineterminator, quotechar, quoting, doublequote, escapechar, comment, encoding, encoding_errors, dialect, on_bad_lines, delim_whitespace, low_memory, memory_map, float_precision, storage_options, dtype_backend)\u001b[0m\n\u001b[0;32m    899\u001b[0m kwds_defaults \u001b[38;5;241m=\u001b[39m _refine_defaults_read(\n\u001b[0;32m    900\u001b[0m     dialect,\n\u001b[0;32m    901\u001b[0m     delimiter,\n\u001b[1;32m   (...)\u001b[0m\n\u001b[0;32m    908\u001b[0m     dtype_backend\u001b[38;5;241m=\u001b[39mdtype_backend,\n\u001b[0;32m    909\u001b[0m )\n\u001b[0;32m    910\u001b[0m kwds\u001b[38;5;241m.\u001b[39mupdate(kwds_defaults)\n\u001b[1;32m--> 912\u001b[0m \u001b[38;5;28;01mreturn\u001b[39;00m _read(filepath_or_buffer, kwds)\n",
      "File \u001b[1;32m~\\anaconda3\\Lib\\site-packages\\pandas\\io\\parsers\\readers.py:577\u001b[0m, in \u001b[0;36m_read\u001b[1;34m(filepath_or_buffer, kwds)\u001b[0m\n\u001b[0;32m    574\u001b[0m _validate_names(kwds\u001b[38;5;241m.\u001b[39mget(\u001b[38;5;124m\"\u001b[39m\u001b[38;5;124mnames\u001b[39m\u001b[38;5;124m\"\u001b[39m, \u001b[38;5;28;01mNone\u001b[39;00m))\n\u001b[0;32m    576\u001b[0m \u001b[38;5;66;03m# Create the parser.\u001b[39;00m\n\u001b[1;32m--> 577\u001b[0m parser \u001b[38;5;241m=\u001b[39m TextFileReader(filepath_or_buffer, \u001b[38;5;241m*\u001b[39m\u001b[38;5;241m*\u001b[39mkwds)\n\u001b[0;32m    579\u001b[0m \u001b[38;5;28;01mif\u001b[39;00m chunksize \u001b[38;5;129;01mor\u001b[39;00m iterator:\n\u001b[0;32m    580\u001b[0m     \u001b[38;5;28;01mreturn\u001b[39;00m parser\n",
      "File \u001b[1;32m~\\anaconda3\\Lib\\site-packages\\pandas\\io\\parsers\\readers.py:1407\u001b[0m, in \u001b[0;36mTextFileReader.__init__\u001b[1;34m(self, f, engine, **kwds)\u001b[0m\n\u001b[0;32m   1404\u001b[0m     \u001b[38;5;28mself\u001b[39m\u001b[38;5;241m.\u001b[39moptions[\u001b[38;5;124m\"\u001b[39m\u001b[38;5;124mhas_index_names\u001b[39m\u001b[38;5;124m\"\u001b[39m] \u001b[38;5;241m=\u001b[39m kwds[\u001b[38;5;124m\"\u001b[39m\u001b[38;5;124mhas_index_names\u001b[39m\u001b[38;5;124m\"\u001b[39m]\n\u001b[0;32m   1406\u001b[0m \u001b[38;5;28mself\u001b[39m\u001b[38;5;241m.\u001b[39mhandles: IOHandles \u001b[38;5;241m|\u001b[39m \u001b[38;5;28;01mNone\u001b[39;00m \u001b[38;5;241m=\u001b[39m \u001b[38;5;28;01mNone\u001b[39;00m\n\u001b[1;32m-> 1407\u001b[0m \u001b[38;5;28mself\u001b[39m\u001b[38;5;241m.\u001b[39m_engine \u001b[38;5;241m=\u001b[39m \u001b[38;5;28mself\u001b[39m\u001b[38;5;241m.\u001b[39m_make_engine(f, \u001b[38;5;28mself\u001b[39m\u001b[38;5;241m.\u001b[39mengine)\n",
      "File \u001b[1;32m~\\anaconda3\\Lib\\site-packages\\pandas\\io\\parsers\\readers.py:1661\u001b[0m, in \u001b[0;36mTextFileReader._make_engine\u001b[1;34m(self, f, engine)\u001b[0m\n\u001b[0;32m   1659\u001b[0m     \u001b[38;5;28;01mif\u001b[39;00m \u001b[38;5;124m\"\u001b[39m\u001b[38;5;124mb\u001b[39m\u001b[38;5;124m\"\u001b[39m \u001b[38;5;129;01mnot\u001b[39;00m \u001b[38;5;129;01min\u001b[39;00m mode:\n\u001b[0;32m   1660\u001b[0m         mode \u001b[38;5;241m+\u001b[39m\u001b[38;5;241m=\u001b[39m \u001b[38;5;124m\"\u001b[39m\u001b[38;5;124mb\u001b[39m\u001b[38;5;124m\"\u001b[39m\n\u001b[1;32m-> 1661\u001b[0m \u001b[38;5;28mself\u001b[39m\u001b[38;5;241m.\u001b[39mhandles \u001b[38;5;241m=\u001b[39m get_handle(\n\u001b[0;32m   1662\u001b[0m     f,\n\u001b[0;32m   1663\u001b[0m     mode,\n\u001b[0;32m   1664\u001b[0m     encoding\u001b[38;5;241m=\u001b[39m\u001b[38;5;28mself\u001b[39m\u001b[38;5;241m.\u001b[39moptions\u001b[38;5;241m.\u001b[39mget(\u001b[38;5;124m\"\u001b[39m\u001b[38;5;124mencoding\u001b[39m\u001b[38;5;124m\"\u001b[39m, \u001b[38;5;28;01mNone\u001b[39;00m),\n\u001b[0;32m   1665\u001b[0m     compression\u001b[38;5;241m=\u001b[39m\u001b[38;5;28mself\u001b[39m\u001b[38;5;241m.\u001b[39moptions\u001b[38;5;241m.\u001b[39mget(\u001b[38;5;124m\"\u001b[39m\u001b[38;5;124mcompression\u001b[39m\u001b[38;5;124m\"\u001b[39m, \u001b[38;5;28;01mNone\u001b[39;00m),\n\u001b[0;32m   1666\u001b[0m     memory_map\u001b[38;5;241m=\u001b[39m\u001b[38;5;28mself\u001b[39m\u001b[38;5;241m.\u001b[39moptions\u001b[38;5;241m.\u001b[39mget(\u001b[38;5;124m\"\u001b[39m\u001b[38;5;124mmemory_map\u001b[39m\u001b[38;5;124m\"\u001b[39m, \u001b[38;5;28;01mFalse\u001b[39;00m),\n\u001b[0;32m   1667\u001b[0m     is_text\u001b[38;5;241m=\u001b[39mis_text,\n\u001b[0;32m   1668\u001b[0m     errors\u001b[38;5;241m=\u001b[39m\u001b[38;5;28mself\u001b[39m\u001b[38;5;241m.\u001b[39moptions\u001b[38;5;241m.\u001b[39mget(\u001b[38;5;124m\"\u001b[39m\u001b[38;5;124mencoding_errors\u001b[39m\u001b[38;5;124m\"\u001b[39m, \u001b[38;5;124m\"\u001b[39m\u001b[38;5;124mstrict\u001b[39m\u001b[38;5;124m\"\u001b[39m),\n\u001b[0;32m   1669\u001b[0m     storage_options\u001b[38;5;241m=\u001b[39m\u001b[38;5;28mself\u001b[39m\u001b[38;5;241m.\u001b[39moptions\u001b[38;5;241m.\u001b[39mget(\u001b[38;5;124m\"\u001b[39m\u001b[38;5;124mstorage_options\u001b[39m\u001b[38;5;124m\"\u001b[39m, \u001b[38;5;28;01mNone\u001b[39;00m),\n\u001b[0;32m   1670\u001b[0m )\n\u001b[0;32m   1671\u001b[0m \u001b[38;5;28;01massert\u001b[39;00m \u001b[38;5;28mself\u001b[39m\u001b[38;5;241m.\u001b[39mhandles \u001b[38;5;129;01mis\u001b[39;00m \u001b[38;5;129;01mnot\u001b[39;00m \u001b[38;5;28;01mNone\u001b[39;00m\n\u001b[0;32m   1672\u001b[0m f \u001b[38;5;241m=\u001b[39m \u001b[38;5;28mself\u001b[39m\u001b[38;5;241m.\u001b[39mhandles\u001b[38;5;241m.\u001b[39mhandle\n",
      "File \u001b[1;32m~\\anaconda3\\Lib\\site-packages\\pandas\\io\\common.py:859\u001b[0m, in \u001b[0;36mget_handle\u001b[1;34m(path_or_buf, mode, encoding, compression, memory_map, is_text, errors, storage_options)\u001b[0m\n\u001b[0;32m    854\u001b[0m \u001b[38;5;28;01melif\u001b[39;00m \u001b[38;5;28misinstance\u001b[39m(handle, \u001b[38;5;28mstr\u001b[39m):\n\u001b[0;32m    855\u001b[0m     \u001b[38;5;66;03m# Check whether the filename is to be opened in binary mode.\u001b[39;00m\n\u001b[0;32m    856\u001b[0m     \u001b[38;5;66;03m# Binary mode does not support 'encoding' and 'newline'.\u001b[39;00m\n\u001b[0;32m    857\u001b[0m     \u001b[38;5;28;01mif\u001b[39;00m ioargs\u001b[38;5;241m.\u001b[39mencoding \u001b[38;5;129;01mand\u001b[39;00m \u001b[38;5;124m\"\u001b[39m\u001b[38;5;124mb\u001b[39m\u001b[38;5;124m\"\u001b[39m \u001b[38;5;129;01mnot\u001b[39;00m \u001b[38;5;129;01min\u001b[39;00m ioargs\u001b[38;5;241m.\u001b[39mmode:\n\u001b[0;32m    858\u001b[0m         \u001b[38;5;66;03m# Encoding\u001b[39;00m\n\u001b[1;32m--> 859\u001b[0m         handle \u001b[38;5;241m=\u001b[39m \u001b[38;5;28mopen\u001b[39m(\n\u001b[0;32m    860\u001b[0m             handle,\n\u001b[0;32m    861\u001b[0m             ioargs\u001b[38;5;241m.\u001b[39mmode,\n\u001b[0;32m    862\u001b[0m             encoding\u001b[38;5;241m=\u001b[39mioargs\u001b[38;5;241m.\u001b[39mencoding,\n\u001b[0;32m    863\u001b[0m             errors\u001b[38;5;241m=\u001b[39merrors,\n\u001b[0;32m    864\u001b[0m             newline\u001b[38;5;241m=\u001b[39m\u001b[38;5;124m\"\u001b[39m\u001b[38;5;124m\"\u001b[39m,\n\u001b[0;32m    865\u001b[0m         )\n\u001b[0;32m    866\u001b[0m     \u001b[38;5;28;01melse\u001b[39;00m:\n\u001b[0;32m    867\u001b[0m         \u001b[38;5;66;03m# Binary mode\u001b[39;00m\n\u001b[0;32m    868\u001b[0m         handle \u001b[38;5;241m=\u001b[39m \u001b[38;5;28mopen\u001b[39m(handle, ioargs\u001b[38;5;241m.\u001b[39mmode)\n",
      "\u001b[1;31mFileNotFoundError\u001b[0m: [Errno 2] No such file or directory: 'C:\\\\Users\\\\dumbl\\\\Documents\\\\Research\\\\Circadia\\\\sleep_eeg.csv'"
     ]
    }
   ],
   "source": [
    "current_dir = os.getcwd()\n",
    "csv_file_path = os.path.join(current_dir, \"sleep_eeg.csv\")\n",
    "sleep_score_value = calculate_sleep_score(csv_file_path)\n",
    "print(\"Sleep Score:\", sleep_score_value)"
   ]
  },
  {
   "cell_type": "code",
   "execution_count": null,
   "id": "877bc322-91c8-43fa-bf7a-319ee57eb2f3",
   "metadata": {},
   "outputs": [],
   "source": []
  }
 ],
 "metadata": {
  "kernelspec": {
   "display_name": "Python 3 (ipykernel)",
   "language": "python",
   "name": "python3"
  },
  "language_info": {
   "codemirror_mode": {
    "name": "ipython",
    "version": 3
   },
   "file_extension": ".py",
   "mimetype": "text/x-python",
   "name": "python",
   "nbconvert_exporter": "python",
   "pygments_lexer": "ipython3",
   "version": "3.11.5"
  }
 },
 "nbformat": 4,
 "nbformat_minor": 5
}
