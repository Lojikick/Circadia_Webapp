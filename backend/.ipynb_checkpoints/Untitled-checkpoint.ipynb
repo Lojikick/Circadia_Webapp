{
 "cells": [
  {
   "cell_type": "code",
   "execution_count": 146,
   "id": "ee997f80-f0a0-46b0-bcc7-67ae030aaa66",
   "metadata": {
    "tags": []
   },
   "outputs": [],
   "source": [
    "import numpy as np\n",
    "from datetime import datetime, timedelta"
   ]
  },
  {
   "cell_type": "code",
   "execution_count": 205,
   "id": "3ed9a10d-6c08-422e-b3a4-3a83b84e8634",
   "metadata": {
    "tags": []
   },
   "outputs": [],
   "source": [
    "import numpy as np\n",
    "from datetime import datetime, timedelta\n",
    "### HELPER FUNCTIONS ###\n",
    "def time_to_seconds(time_str):\n",
    "    dt = datetime.strptime(time_str, \"%H:%M\")\n",
    "    return dt.hour * 3600 + dt.minute * 60\n",
    "\n",
    "# Calculate the mean in seconds\n",
    "def mean_time(times):\n",
    "    total_seconds = sum(time_to_seconds(t) for t in times)\n",
    "    mean_seconds = total_seconds / len(times)\n",
    "\n",
    "    # Convert the mean back to HH:MM\n",
    "    mean_time = (datetime.min + timedelta(seconds=mean_seconds)).time()\n",
    "    mean_time_str = mean_time.strftime(\"%H:%M\")\n",
    "    rounded_time = nearest_quarter(m_to_dec(mean_time_str))\n",
    "    return rounded_time\n",
    "\n",
    "def m_to_dec(time_str):\n",
    "    # Split the time into hours and minutes\n",
    "    hours, minutes = map(int, time_str.split(\":\"))\n",
    "    \n",
    "    # Convert minutes to a fraction of an hour\n",
    "    decimal_minutes = minutes / 60\n",
    "    \n",
    "    # Combine the whole hours and fractional minutes\n",
    "    decimal_time = hours + decimal_minutes\n",
    "    \n",
    "    return decimal_time\n",
    "\n",
    "def dec_to_m(decimal_time):\n",
    "    # Separate the whole hours and fractional part\n",
    "    hours = int(decimal_time)\n",
    "    fractional_part = decimal_time - hours\n",
    "    \n",
    "    # Convert the fractional part to minutes\n",
    "    minutes = round(fractional_part * 60)  # Rounding to get a whole number\n",
    "    \n",
    "    # Format hours and minutes to ensure proper military time\n",
    "    formatted_hours = f\"{hours:02d}\"  # Pad with zero if single-digit\n",
    "    formatted_minutes = f\"{minutes:02d}\"  # Pad with zero if single-digit\n",
    "    \n",
    "    # Combine hours and minutes to get military time\n",
    "    military_time = f\"{formatted_hours}:{formatted_minutes}\"\n",
    "    \n",
    "    return military_time\n",
    "\n",
    "### MAIN FUNCTIONS ###\n",
    "\n",
    "class Sleeper:\n",
    "    def __init__(self, id, sleepscore, bedtimes, waketimes):\n",
    "        self.id = id\n",
    "        self.sleepscore = sleepscore\n",
    "        self.bedtime = mean_time(bedtimes)\n",
    "        self.waketime = mean_time(waketimes)\n",
    "\n",
    "class Optimal(Sleeper):\n",
    "    def __init__(self):\n",
    "        super().__init__(0, 100, [\"23:00\"], [\"8:00\"])\n",
    "\n",
    "def get_coef(score):\n",
    "    k = 0\n",
    "    if score >= 90:\n",
    "        return 0.9\n",
    "    elif score >= 75:\n",
    "        return 0.7\n",
    "    elif score >= 50:\n",
    "        return 0.5\n",
    "    elif score >= 30:\n",
    "        return 0.3\n",
    "    else:\n",
    "        return 0.2\n",
    "    \n",
    "def nearest_quarter(time):\n",
    "    # Extract the hour and minute part\n",
    "    hour = int(time)\n",
    "    minute_fraction = abs(time - hour)\n",
    "    \n",
    "    # Convert the minute fraction to a full number representing minutes\n",
    "    minutes = minute_fraction * 60\n",
    "    \n",
    "    # Round the minutes to the nearest quarter (15, 30, 45, 0)\n",
    "    if minutes % 15 < 7.5:\n",
    "        rounded_minutes = 15 * (minutes // 15)\n",
    "    else:\n",
    "        rounded_minutes = 15 * ((minutes // 15) + 1)\n",
    "    \n",
    "    # Adjust if rounding over 60 minutes\n",
    "    if rounded_minutes >= 60:\n",
    "        hour += 1\n",
    "        rounded_minutes = 0\n",
    "    \n",
    "    # Convert back to the decimal representation (hour.minute)\n",
    "    rounded_time = hour + (rounded_minutes / 60.0)\n",
    "    \n",
    "    return rounded_time\n",
    "\n",
    "\n",
    "def adjust(user, optimal):\n",
    "    # Initial lists for adjusted bedtimes and waketimes\n",
    "    new_bedtimes, new_waketimes = [], []\n",
    "    k = get_coef(user.sleepscore)\n",
    "    print(user.waketime)\n",
    "    print(optimal.waketime)\n",
    "    for i in range(1, 6):  # Day 1 through Day 5\n",
    "        # Calculate a tentative adjustment\n",
    "        adj_bedtime = optimal.bedtime \n",
    "        \n",
    "        adj_waketime = optimal.waketime + ((user.waketime - optimal.waketime) * np.exp(-k*i))\n",
    "        \n",
    "        # Ensure adj_waketime is within 24-hour format\n",
    "            \n",
    "        new_bedtimes.append(adj_bedtime)\n",
    "        new_waketimes.append(adj_waketime)\n",
    "    \n",
    "    # Ensure the function returns lists even if adjustments are not needed\n",
    "    new_waketimes = list(map(nearest_quarter,new_waketimes))\n",
    "    return new_bedtimes, new_waketimes"
   ]
  },
  {
   "cell_type": "code",
   "execution_count": 248,
   "id": "294faac7-4048-4e17-b9a9-e253b487515a",
   "metadata": {
    "tags": []
   },
   "outputs": [],
   "source": [
    "def standard_to_military(time_str):\n",
    "    # Parse the time in the \"2:00 PM\" format\n",
    "    t = datetime.strptime(time_str, \"%I:%M %p\")\n",
    "    # Convert to military time (24-hour)\n",
    "    return t.strftime(\"%H:%M\")\n",
    "\n",
    "# Function to convert military time (24-hour) to standard time (12-hour AM/PM)\n",
    "def military_to_standard(time_str):\n",
    "    # Parse the time in the \"14:00\" format\n",
    "    t = datetime.strptime(time_str, \"%H:%M\")\n",
    "    # Convert to standard time (12-hour AM/PM)\n",
    "    return t.strftime(\"%I:%M %p\")"
   ]
  },
  {
   "cell_type": "code",
   "execution_count": 259,
   "id": "c2778ae9-b160-4fe6-a3ac-09329c181785",
   "metadata": {
    "tags": []
   },
   "outputs": [
    {
     "data": {
      "text/plain": [
       "'14:31'"
      ]
     },
     "execution_count": 259,
     "metadata": {},
     "output_type": "execute_result"
    }
   ],
   "source": [
    "standard_to_military(\"2:31 PM\")\n",
    "# military_to_standard(\"2:37\")"
   ]
  },
  {
   "cell_type": "code",
   "execution_count": 206,
   "id": "6c9bdf93-9e39-4432-8135-3b8e21e18979",
   "metadata": {
    "tags": []
   },
   "outputs": [
    {
     "data": {
      "text/plain": [
       "7.5"
      ]
     },
     "execution_count": 206,
     "metadata": {},
     "output_type": "execute_result"
    }
   ],
   "source": [
    "times = [\"8:30\", \"07:00\",\"7:20\"]\n",
    "mean_time(times)"
   ]
  },
  {
   "cell_type": "code",
   "execution_count": 242,
   "id": "b4709d39-8766-44ce-b856-6d12d8dfbd48",
   "metadata": {
    "tags": []
   },
   "outputs": [],
   "source": [
    "test = Sleeper(3,67,[\"1:30\", \"01:00\",\"1:20\"],[\"14:30\", \"14:00\",\"14:20\"])\n",
    "opt = Optimal()"
   ]
  },
  {
   "cell_type": "code",
   "execution_count": 243,
   "id": "526fffe0-4545-4a52-8a75-6a413216b9ab",
   "metadata": {
    "tags": []
   },
   "outputs": [
    {
     "data": {
      "text/plain": [
       "8.0"
      ]
     },
     "execution_count": 243,
     "metadata": {},
     "output_type": "execute_result"
    }
   ],
   "source": [
    "test.waketime\n",
    "opt.waketime"
   ]
  },
  {
   "cell_type": "code",
   "execution_count": 244,
   "id": "d69df943-d300-465a-b74f-a10b70ef492e",
   "metadata": {
    "tags": []
   },
   "outputs": [
    {
     "name": "stdout",
     "output_type": "stream",
     "text": [
      "14.25\n",
      "8.0\n"
     ]
    }
   ],
   "source": [
    "bed,wake = adjust(test, opt)"
   ]
  },
  {
   "cell_type": "code",
   "execution_count": 245,
   "id": "b097f42e-1f03-43ba-9eca-112adede68d9",
   "metadata": {
    "tags": []
   },
   "outputs": [
    {
     "data": {
      "text/plain": [
       "['11:45', '10:15', '09:30', '08:45', '08:30']"
      ]
     },
     "execution_count": 245,
     "metadata": {},
     "output_type": "execute_result"
    }
   ],
   "source": [
    "list(map(dec_to_m,wake))"
   ]
  },
  {
   "cell_type": "code",
   "execution_count": 183,
   "id": "48a89c72-ef62-4c9f-94de-a103b8efbe39",
   "metadata": {
    "tags": []
   },
   "outputs": [
    {
     "data": {
      "text/plain": [
       "1.0"
      ]
     },
     "execution_count": 183,
     "metadata": {},
     "output_type": "execute_result"
    }
   ],
   "source": [
    "(2 * (1/2))\n"
   ]
  },
  {
   "cell_type": "code",
   "execution_count": 33,
   "id": "05cc25e3-9580-4bff-8c1e-80af97a6b17d",
   "metadata": {
    "tags": []
   },
   "outputs": [],
   "source": [
    "def get_coef(score):\n",
    "    k = 0\n",
    "    if score >= 0.9:\n",
    "        return 0.9\n",
    "    elif score >= 0.75:\n",
    "        return 0.7\n",
    "    elif score >= 0.5:\n",
    "        return 0.5\n",
    "    elif score >= 0.3:\n",
    "        return 0.3\n",
    "    else:\n",
    "        return 0.2"
   ]
  },
  {
   "cell_type": "code",
   "execution_count": 42,
   "id": "b66785d6-20c2-4ed4-aef0-0bb7914b455c",
   "metadata": {
    "tags": []
   },
   "outputs": [
    {
     "data": {
      "text/plain": [
       "0.3"
      ]
     },
     "execution_count": 42,
     "metadata": {},
     "output_type": "execute_result"
    }
   ],
   "source": [
    "k = get_coef(37/100)\n",
    "k"
   ]
  },
  {
   "cell_type": "code",
   "execution_count": 44,
   "id": "4513e927-e6f1-4231-92dc-bb17a9d57f39",
   "metadata": {
    "tags": []
   },
   "outputs": [],
   "source": [
    "wake_times = []\n",
    "for x in range(1,6):\n",
    "    wake_times.append(8+(10 - 8)*np.exp(-k*x))"
   ]
  },
  {
   "cell_type": "code",
   "execution_count": 46,
   "id": "9d4ddad5-9676-493e-9b73-38bd300bebf0",
   "metadata": {
    "tags": []
   },
   "outputs": [],
   "source": [
    "def round_to_nearest_quarter(time):\n",
    "    # Extract the hour and minute part\n",
    "    hour = int(time)\n",
    "    minute_fraction = abs(time - hour)\n",
    "    \n",
    "    # Convert the minute fraction to a full number representing minutes\n",
    "    minutes = minute_fraction * 60\n",
    "    \n",
    "    # Round the minutes to the nearest quarter (15, 30, 45, 0)\n",
    "    if minutes % 15 < 7.5:\n",
    "        rounded_minutes = 15 * (minutes // 15)\n",
    "    else:\n",
    "        rounded_minutes = 15 * ((minutes // 15) + 1)\n",
    "    \n",
    "    # Adjust if rounding over 60 minutes\n",
    "    if rounded_minutes >= 60:\n",
    "        hour += 1\n",
    "        rounded_minutes = 0\n",
    "    \n",
    "    # Convert back to the decimal representation (hour.minute)\n",
    "    rounded_time = hour + (rounded_minutes / 60.0)\n",
    "    \n",
    "    return rounded_time"
   ]
  },
  {
   "cell_type": "code",
   "execution_count": 262,
   "id": "e8c4f49b-1d00-4b88-8969-bd13606ed5b5",
   "metadata": {
    "tags": []
   },
   "outputs": [],
   "source": [
    "data = {\n",
    "        \"Monday\": {\n",
    "            \"bedtime\": \"11:00 PM\",\n",
    "            \"waketime\": \"2:00 PM\"\n",
    "        },\n",
    "        \"Tuesday\": {\n",
    "            \"bedtime\": \"11:00 PM\",\n",
    "            \"waketime\": \"2:30 PM\"\n",
    "        },\n",
    "        \"Wednesday\": {\n",
    "            \"bedtime\": \"10:30 PM\",\n",
    "            \"waketime\": \"2:00 PM\"\n",
    "        },\n",
    "        \"Thursday\": {\n",
    "            \"bedtime\": \"10:30 PM\",\n",
    "            \"waketime\": \"2:00 PM\"\n",
    "        },\n",
    "        \"Friday\": {\n",
    "            \"bedtime\": \"10:00 PM\",\n",
    "            \"waketime\": \"2:30 PM\"\n",
    "        }\n",
    "    }"
   ]
  },
  {
   "cell_type": "code",
   "execution_count": 307,
   "id": "022a2274-ecb5-4c1c-a029-ee4b4dd17b31",
   "metadata": {
    "tags": []
   },
   "outputs": [
    {
     "name": "stdout",
     "output_type": "stream",
     "text": [
      "10.25\n",
      "8.0\n"
     ]
    }
   ],
   "source": [
    "rounded_times = list(map(round_to_nearest_quarter,wake_times))\n",
    "bedtimes = []\n",
    "waketimes = []\n",
    "for day, times in data.items():\n",
    "    bedtimes.append(times['bedtime'])\n",
    "    waketimes.append(times['waketime'])\n",
    "bedtimes = list(map(standard_to_military,bedtimes))\n",
    "waketimes = list(map(standard_to_military,waketimes))\n",
    "curr_person = Sleeper(3,36,bedtimes,waketimes)\n",
    "optimal = Optimal()\n",
    "adjusted_bedtime, adjusted_waketime = adjust(curr_person, optimal)\n"
   ]
  },
  {
   "cell_type": "code",
   "execution_count": 308,
   "id": "0e90b51f-743f-4945-8a4e-b288b54950af",
   "metadata": {
    "tags": []
   },
   "outputs": [],
   "source": [
    "def d_to_s(time):\n",
    "    temp = dec_to_m(time)\n",
    "    return military_to_standard(temp)\n",
    "\n",
    "# Function to convert military time (24-hour) to standard time (12-hour AM/PM)\n",
    "def s_to_d(time):\n",
    "    temp = standard_to_military(time)\n",
    "    return m_to_dec(temp)"
   ]
  },
  {
   "cell_type": "code",
   "execution_count": 309,
   "id": "36519990-1455-43f6-98cc-c4c09198c7e8",
   "metadata": {
    "tags": []
   },
   "outputs": [
    {
     "data": {
      "text/plain": [
       "'08:45 AM'"
      ]
     },
     "execution_count": 309,
     "metadata": {},
     "output_type": "execute_result"
    }
   ],
   "source": [
    "s_to_d(\"08:45 AM\")\n",
    "d_to_s(8.75)"
   ]
  },
  {
   "cell_type": "code",
   "execution_count": 310,
   "id": "6acc7a19-1792-4cee-93b6-92d74e350f54",
   "metadata": {
    "tags": []
   },
   "outputs": [],
   "source": [
    "adjusted_bedtime = list(map(d_to_s,adjusted_bedtime))\n",
    "adjusted_waketime = list(map(d_to_s,adjusted_waketime))"
   ]
  },
  {
   "cell_type": "code",
   "execution_count": 311,
   "id": "114133e8-dd3e-4e7a-984e-445b8993d08d",
   "metadata": {
    "tags": []
   },
   "outputs": [
    {
     "data": {
      "text/plain": [
       "['09:45 AM', '09:15 AM', '09:00 AM', '08:45 AM', '08:30 AM']"
      ]
     },
     "execution_count": 311,
     "metadata": {},
     "output_type": "execute_result"
    }
   ],
   "source": [
    "adjusted_waketime"
   ]
  },
  {
   "cell_type": "code",
   "execution_count": 312,
   "id": "efa3e3b7-a631-479d-aeb8-fad8a43ad3ad",
   "metadata": {
    "tags": []
   },
   "outputs": [
    {
     "data": {
      "text/plain": [
       "['11:00 PM', '11:00 PM', '11:00 PM', '11:00 PM', '11:00 PM']"
      ]
     },
     "execution_count": 312,
     "metadata": {},
     "output_type": "execute_result"
    }
   ],
   "source": [
    "adjusted_bedtime "
   ]
  },
  {
   "cell_type": "code",
   "execution_count": 275,
   "id": "e9e0ebfc-9a8e-4efe-8a91-ca7180c63cde",
   "metadata": {
    "tags": []
   },
   "outputs": [
    {
     "name": "stdout",
     "output_type": "stream",
     "text": [
      "10.25\n",
      "8.0\n"
     ]
    }
   ],
   "source": [
    "\n",
    "curr_person = Sleeper(3,36,bedtimes,waketimes)\n",
    "optimal = Optimal()\n",
    "adjusted_bedtime, adjusted_waketime = adjust(curr_person, optimal)"
   ]
  },
  {
   "cell_type": "code",
   "execution_count": 277,
   "id": "c396f6e4-332d-4ee1-a929-3a60793a72ce",
   "metadata": {
    "tags": []
   },
   "outputs": [
    {
     "data": {
      "text/plain": [
       "[23.0, 23.0, 23.0, 23.0, 23.0]"
      ]
     },
     "execution_count": 277,
     "metadata": {},
     "output_type": "execute_result"
    }
   ],
   "source": []
  },
  {
   "cell_type": "code",
   "execution_count": 272,
   "id": "3e17ab02-0e36-4468-bc66-426fef9002b2",
   "metadata": {
    "tags": []
   },
   "outputs": [
    {
     "data": {
      "text/plain": [
       "['10:00', '10:30', '10:00', '10:00', '10:30']"
      ]
     },
     "execution_count": 272,
     "metadata": {},
     "output_type": "execute_result"
    }
   ],
   "source": []
  },
  {
   "cell_type": "code",
   "execution_count": 110,
   "id": "ceb3e6ae-a260-4509-8321-a275f9666f90",
   "metadata": {
    "tags": []
   },
   "outputs": [
    {
     "data": {
      "text/plain": [
       "[9.5, 9.0, 8.75, 8.5, 8.5]"
      ]
     },
     "execution_count": 110,
     "metadata": {},
     "output_type": "execute_result"
    }
   ],
   "source": [
    "rounded_times"
   ]
  },
  {
   "cell_type": "code",
   "execution_count": 58,
   "id": "8b0cd3d7-245b-4123-a6eb-480553b0d0b1",
   "metadata": {
    "tags": []
   },
   "outputs": [],
   "source": [
    "time = 1.75\n",
    "hour = int(time)\n",
    "minute_fraction = abs(time - hour)\n",
    "minutes = minute_fraction * 60\n"
   ]
  },
  {
   "cell_type": "code",
   "execution_count": 106,
   "id": "aa502e7b-2ad0-485d-bdc9-532d05541175",
   "metadata": {
    "tags": []
   },
   "outputs": [],
   "source": [
    "minutes = 56"
   ]
  },
  {
   "cell_type": "code",
   "execution_count": 107,
   "id": "f51b7256-2682-4abb-a655-3c6d5bdc2754",
   "metadata": {
    "tags": []
   },
   "outputs": [],
   "source": [
    "if minutes % 15 < 7.5:\n",
    "    rounded_minutes = 15 * (minutes // 15)\n",
    "else:\n",
    "    rounded_minutes = 15 * ((minutes // 15) + 1)"
   ]
  },
  {
   "cell_type": "code",
   "execution_count": 108,
   "id": "eefedc4c-c87b-4d78-8674-9e0ce2949fda",
   "metadata": {
    "tags": []
   },
   "outputs": [
    {
     "data": {
      "text/plain": [
       "60"
      ]
     },
     "execution_count": 108,
     "metadata": {},
     "output_type": "execute_result"
    }
   ],
   "source": [
    "rounded_minutes"
   ]
  },
  {
   "cell_type": "code",
   "execution_count": null,
   "id": "f557f0df-3a81-414c-acd4-6e7ee191fbb7",
   "metadata": {},
   "outputs": [],
   "source": []
  }
 ],
 "metadata": {
  "kernelspec": {
   "display_name": "Python 3 (ipykernel)",
   "language": "python",
   "name": "python3"
  },
  "language_info": {
   "codemirror_mode": {
    "name": "ipython",
    "version": 3
   },
   "file_extension": ".py",
   "mimetype": "text/x-python",
   "name": "python",
   "nbconvert_exporter": "python",
   "pygments_lexer": "ipython3",
   "version": "3.11.5"
  }
 },
 "nbformat": 4,
 "nbformat_minor": 5
}
