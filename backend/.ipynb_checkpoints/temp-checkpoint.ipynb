{
 "cells": [
  {
   "cell_type": "code",
   "execution_count": 91,
   "id": "66b9524f-b4e1-485d-9458-953a9e75677f",
   "metadata": {
    "tags": []
   },
   "outputs": [],
   "source": [
    "import pandas as pd\n",
    "from subprocess import Popen, PIPE\n",
    "# from sleep_utils.schedule import Sleeper, Optimal, Calendar, Event, adjust\n",
    "# from sleep_utils.sleep_score import sleep_score\n",
    "import os\n",
    "import mne\n",
    "import yasa\n",
    "import numpy as np\n",
    "import matplotlib.pyplot as plt\n",
    "from yasa import Hypnogram"
   ]
  },
  {
   "cell_type": "code",
   "execution_count": 92,
   "id": "fff4c535-1bf0-48a0-8308-7e6df7160213",
   "metadata": {
    "tags": []
   },
   "outputs": [],
   "source": [
    "def convert_csv_to_stages(input_csv):\n",
    "    sample_data = pd.read_csv(input_csv)\n",
    "    sample_data =sample_data.fillna(0)\n",
    "    sampling_rate = 256\n",
    "    ch_names = ['TP9', 'AF7', 'AF8', 'TP10']\n",
    "    time_series = []\n",
    "    time_series.append(np.array(sample_data['ch1']))\n",
    "    time_series.append(np.array(sample_data['ch2']))\n",
    "    time_series.append(np.array(sample_data['ch3']))\n",
    "    time_series.append(np.array(sample_data['ch4']))\n",
    "    time_series = np.array(time_series)\n",
    "    info = mne.create_info(ch_names,sampling_rate)\n",
    "    raw = mne.io.RawArray(time_series, info)\n",
    "    sls = yasa.SleepStaging(raw, eeg_name=\"TP10\", metadata=dict(age=21, male=False))\n",
    "    y_pred = sls.predict()\n",
    "    df_pred = pd.DataFrame({'Stage': y_pred})\n",
    "    sleep_cycles = list(df_pred[\"Stage\"])\n",
    "    return sleep_cycles"
   ]
  },
  {
   "cell_type": "code",
   "execution_count": 93,
   "id": "ddcf6b73-7549-49e7-98c5-3e0f6495f765",
   "metadata": {
    "tags": []
   },
   "outputs": [],
   "source": [
    "def remove_leading(arr, target_element):\n",
    "    first_diff_index = np.argmax(arr != target_element)\n",
    "    return arr[first_diff_index:]\n",
    "def remove_trailing(arr, target_element):\n",
    "    # Reverse the array to find the index of the last non-target element\n",
    "    reversed_arr = arr[::-1]\n",
    "    \n",
    "    # Find the first index in the reversed array that is not the target_element\n",
    "    first_non_target_index = np.argmax(reversed_arr != target_element)\n",
    "    \n",
    "    # Slice the original array up to this point from the end\n",
    "    return arr[:-first_non_target_index] if first_non_target_index > 0 else arr\n",
    "def calculate_score(n3_p, d_p, w_p):\n",
    "    n3_score = min(n3_p * (20 / 25), 20)  \n",
    "    \n",
    "    d_score = min(n3_p * (60 / 70), 60)  \n",
    "    \n",
    "    if w_p <= 10:\n",
    "        w_score = 20 \n",
    "    else:\n",
    "        w_score = max(20 - (w_p - 10) * (20 / 10), 0) \n",
    "    total_score = n3_score + d_score + w_score\n",
    "    return total_score\n",
    "\n",
    "def calculate_sleep_score(input_csv):\n",
    "    # Read sleep stages from the text file\n",
    "    sleep_stages = convert_csv_to_stages(input_csv)\n",
    "    sleep_stages = np.array(sleep_stages)\n",
    "    sleep_stages = remove_leading(sleep_stages, 'W')\n",
    "    sleep_stages = remove_trailing(sleep_stages, 'W')\n",
    "    w_p = (np.count_nonzero(sleep_stages == \"W\")/sleep_stages.size) *100\n",
    "    n1_p = (np.count_nonzero(sleep_stages == \"N1\")/sleep_stages.size) *100\n",
    "    n2_p = (np.count_nonzero(sleep_stages == \"N2\")/sleep_stages.size) *100\n",
    "    n3_p = (np.count_nonzero(sleep_stages == \"N3\")/sleep_stages.size) *100\n",
    "    r_p = (np.count_nonzero(sleep_stages == \"R\")/sleep_stages.size) *100\n",
    "    d_p = n2_p + n3_p\n",
    "    return calculate_score(n3_p,d_p,w_p)"
   ]
  },
  {
   "cell_type": "code",
   "execution_count": 94,
   "id": "cad236f1-f71a-4211-924e-c1952f81f701",
   "metadata": {
    "tags": []
   },
   "outputs": [
    {
     "name": "stdout",
     "output_type": "stream",
     "text": [
      "Creating RawArray with float64 data, n_channels=4, n_times=5395440\n",
      "    Range : 0 ... 5395439 =      0.000 ... 21075.934 secs\n",
      "Ready.\n",
      "NOTE: pick_channels() is a legacy function. New code should use inst.pick(...).\n"
     ]
    },
    {
     "name": "stderr",
     "output_type": "stream",
     "text": [
      "C:\\Users\\dumbl\\anaconda3\\Lib\\site-packages\\sklearn\\base.py:347: InconsistentVersionWarning: Trying to unpickle estimator LabelEncoder from version 0.24.2 when using version 1.3.0. This might lead to breaking code or invalid results. Use at your own risk. For more info please refer to:\n",
      "https://scikit-learn.org/stable/model_persistence.html#security-maintainability-limitations\n",
      "  warnings.warn(\n"
     ]
    },
    {
     "ename": "AttributeError",
     "evalue": "'list' object has no attribute 'size'",
     "output_type": "error",
     "traceback": [
      "\u001b[1;31m---------------------------------------------------------------------------\u001b[0m",
      "\u001b[1;31mAttributeError\u001b[0m                            Traceback (most recent call last)",
      "Cell \u001b[1;32mIn[94], line 1\u001b[0m\n\u001b[1;32m----> 1\u001b[0m calculate_sleep_score(\u001b[38;5;124m\"\u001b[39m\u001b[38;5;124msleep_eeg.csv\u001b[39m\u001b[38;5;124m\"\u001b[39m)\n",
      "Cell \u001b[1;32mIn[93], line 31\u001b[0m, in \u001b[0;36mcalculate_sleep_score\u001b[1;34m(input_csv)\u001b[0m\n\u001b[0;32m     29\u001b[0m sleep_stages \u001b[38;5;241m=\u001b[39m remove_leading(sleep_stages, \u001b[38;5;124m'\u001b[39m\u001b[38;5;124mW\u001b[39m\u001b[38;5;124m'\u001b[39m)\n\u001b[0;32m     30\u001b[0m sleep_stages \u001b[38;5;241m=\u001b[39m remove_trailing(sleep_stages, \u001b[38;5;124m'\u001b[39m\u001b[38;5;124mW\u001b[39m\u001b[38;5;124m'\u001b[39m)\n\u001b[1;32m---> 31\u001b[0m w_p \u001b[38;5;241m=\u001b[39m (np\u001b[38;5;241m.\u001b[39mcount_nonzero(sleep_stages \u001b[38;5;241m==\u001b[39m \u001b[38;5;124m\"\u001b[39m\u001b[38;5;124mW\u001b[39m\u001b[38;5;124m\"\u001b[39m)\u001b[38;5;241m/\u001b[39msleep_stages\u001b[38;5;241m.\u001b[39msize) \u001b[38;5;241m*\u001b[39m\u001b[38;5;241m100\u001b[39m\n\u001b[0;32m     32\u001b[0m n1_p \u001b[38;5;241m=\u001b[39m (np\u001b[38;5;241m.\u001b[39mcount_nonzero(sleep_stages \u001b[38;5;241m==\u001b[39m \u001b[38;5;124m\"\u001b[39m\u001b[38;5;124mN1\u001b[39m\u001b[38;5;124m\"\u001b[39m)\u001b[38;5;241m/\u001b[39msleep_stages\u001b[38;5;241m.\u001b[39msize) \u001b[38;5;241m*\u001b[39m\u001b[38;5;241m100\u001b[39m\n\u001b[0;32m     33\u001b[0m n2_p \u001b[38;5;241m=\u001b[39m (np\u001b[38;5;241m.\u001b[39mcount_nonzero(sleep_stages \u001b[38;5;241m==\u001b[39m \u001b[38;5;124m\"\u001b[39m\u001b[38;5;124mN2\u001b[39m\u001b[38;5;124m\"\u001b[39m)\u001b[38;5;241m/\u001b[39msleep_stages\u001b[38;5;241m.\u001b[39msize) \u001b[38;5;241m*\u001b[39m\u001b[38;5;241m100\u001b[39m\n",
      "\u001b[1;31mAttributeError\u001b[0m: 'list' object has no attribute 'size'"
     ]
    }
   ],
   "source": [
    "calculate_sleep_score(\"sleep_eeg.csv\")"
   ]
  },
  {
   "cell_type": "code",
   "execution_count": 5,
   "id": "36db0b2e-9be1-4540-8a3d-3145d7976aa5",
   "metadata": {
    "tags": []
   },
   "outputs": [
    {
     "name": "stdout",
     "output_type": "stream",
     "text": [
      "Creating RawArray with float64 data, n_channels=4, n_times=5395440\n",
      "    Range : 0 ... 5395439 =      0.000 ... 21075.934 secs\n",
      "Ready.\n",
      "NOTE: pick_channels() is a legacy function. New code should use inst.pick(...).\n",
      "['W', 'W', 'W', 'W', 'W', 'W', 'W', 'W', 'W', 'W', 'W', 'W', 'W', 'W', 'W', 'W', 'W', 'W', 'W', 'W', 'W', 'W', 'W', 'W', 'W', 'W', 'W', 'W', 'W', 'W', 'W', 'W', 'W', 'W', 'W', 'W', 'W', 'W', 'W', 'W', 'W', 'W', 'W', 'W', 'W', 'W', 'W', 'W', 'W', 'W', 'W', 'W', 'W', 'W', 'W', 'W', 'W', 'W', 'W', 'W', 'W', 'W', 'W', 'W', 'W', 'W', 'W', 'W', 'W', 'W', 'W', 'W', 'W', 'W', 'W', 'W', 'W', 'W', 'W', 'W', 'W', 'W', 'W', 'W', 'W', 'W', 'W', 'W', 'W', 'W', 'W', 'W', 'W', 'W', 'W', 'W', 'W', 'W', 'W', 'W', 'W', 'W', 'W', 'W', 'W', 'W', 'W', 'W', 'W', 'W', 'W', 'W', 'W', 'W', 'W', 'W', 'W', 'W', 'W', 'W', 'W', 'W', 'W', 'W', 'W', 'W', 'W', 'W', 'W', 'W', 'W', 'W', 'W', 'W', 'W', 'W', 'W', 'W', 'W', 'W', 'W', 'W', 'W', 'W', 'W', 'W', 'W', 'W', 'W', 'W', 'W', 'W', 'W', 'W', 'W', 'W', 'W', 'W', 'W', 'W', 'W', 'W', 'W', 'W', 'W', 'W', 'W', 'W', 'W', 'W', 'W', 'W', 'W', 'W', 'W', 'W', 'W', 'W', 'W', 'W', 'W', 'W', 'W', 'W', 'W', 'W', 'W', 'W', 'W', 'N2', 'W', 'W', 'W', 'W', 'W', 'W', 'W', 'W', 'W', 'W', 'W', 'W', 'W', 'W', 'N2', 'W', 'N2', 'N2', 'N2', 'N2', 'W', 'N2', 'N2', 'W', 'N2', 'N2', 'W', 'N2', 'N2', 'N2', 'N2', 'N2', 'N2', 'N2', 'W', 'N2', 'N2', 'N2', 'N2', 'N2', 'N3', 'N3', 'N3', 'N3', 'N3', 'N3', 'N3', 'N2', 'R', 'R', 'N3', 'W', 'N2', 'N2', 'N2', 'N2', 'R', 'R', 'R', 'R', 'R', 'R', 'R', 'R', 'R', 'R', 'R', 'R', 'R', 'N3', 'N3', 'N3', 'N3', 'N3', 'N3', 'N3', 'N3', 'N3', 'R', 'R', 'R', 'R', 'N2', 'N3', 'N2', 'N3', 'N3', 'N3', 'N3', 'N3', 'N3', 'N3', 'N3', 'N3', 'N3', 'N3', 'R', 'R', 'W', 'N2', 'N2', 'N3', 'N3', 'N3', 'N3', 'N2', 'N2', 'N2', 'N2', 'N2', 'N2', 'W', 'N2', 'N2', 'N2', 'N2', 'N2', 'N2', 'N2', 'N3', 'N3', 'N3', 'N3', 'N3', 'N3', 'N3', 'N3', 'N3', 'N3', 'N3', 'N3', 'N3', 'N3', 'N3', 'N3', 'N3', 'N3', 'N3', 'N3', 'N3', 'N3', 'N3', 'N3', 'N3', 'N3', 'N3', 'N3', 'N3', 'N3', 'N3', 'N3', 'N3', 'N3', 'N3', 'N3', 'N3', 'N3', 'N3', 'N3', 'R', 'N3', 'N3', 'N3', 'R', 'R', 'R', 'N3', 'N3', 'N3', 'N3', 'N3', 'N3', 'N3', 'N3', 'N3', 'N3', 'N3', 'N3', 'N3', 'N3', 'N3', 'N3', 'N3', 'N3', 'N2', 'N2', 'W', 'W', 'W', 'W', 'W', 'W', 'W', 'W', 'W', 'W', 'W', 'W', 'N2', 'N2', 'W', 'N2', 'N2', 'W', 'N2', 'N2', 'N2', 'W', 'N2', 'N2', 'N2', 'N2', 'N2', 'N2', 'N2', 'N2', 'N2', 'N2', 'N2', 'N2', 'N2', 'N2', 'N2', 'N2', 'N2', 'N2', 'N2', 'N2', 'N2', 'N2', 'N2', 'W', 'N2', 'W', 'N2', 'N2', 'N2', 'W', 'N2', 'W', 'W', 'W', 'W', 'N2', 'W', 'N2', 'W', 'N2', 'N2', 'N2', 'N2', 'N2', 'W', 'W', 'W', 'N2', 'W', 'N2', 'N2', 'W', 'W', 'W', 'W', 'W', 'W', 'W', 'W', 'W', 'W', 'W', 'W', 'W', 'N2', 'W', 'W', 'W', 'W', 'W', 'W', 'W', 'W', 'W', 'W', 'W', 'W', 'W', 'W', 'W', 'N2', 'W', 'W', 'W', 'N3', 'W', 'W', 'W', 'W', 'N2', 'N2', 'N2', 'N2', 'N2', 'W', 'W', 'W', 'W', 'W', 'N2', 'W', 'N2', 'N2', 'W', 'N2', 'N2', 'N2', 'N2', 'N2', 'W', 'W', 'N2', 'N2', 'W', 'W', 'W', 'W', 'W', 'W', 'W', 'W', 'N2', 'N2', 'N2', 'N2', 'W', 'N2', 'N2', 'N2', 'N2', 'N2', 'N2', 'W', 'N2', 'N2', 'N2', 'N2', 'N2', 'N2', 'N2', 'W', 'W', 'W', 'W', 'W', 'N2', 'N2', 'N2', 'N2', 'N2', 'W', 'N2', 'W', 'W', 'W', 'W', 'R', 'R', 'N2', 'N2', 'N2', 'N2', 'N2', 'N2', 'W', 'N2', 'W', 'R', 'N2', 'W', 'W', 'N2', 'W', 'W', 'W', 'W', 'W', 'W', 'N2', 'N2', 'N2', 'N2', 'N2', 'N2', 'N2', 'N2', 'N2', 'N2', 'N2', 'N2', 'N2', 'N2', 'N2', 'N2', 'N2', 'N2', 'N2', 'N2', 'N2', 'R', 'N2', 'N2', 'N2', 'N2', 'N2', 'N2', 'N2', 'N2', 'N2', 'N2', 'N2', 'N2', 'N2', 'N2', 'N2', 'N2', 'N2', 'N2', 'N2', 'N2', 'N2', 'N2', 'N2', 'N2', 'N2', 'N2', 'N2', 'N2', 'N2', 'N2', 'N2', 'N2', 'N2', 'N2', 'N2', 'N2', 'N2', 'N2', 'N2', 'N2', 'N2', 'N2', 'W', 'N2', 'N2', 'W', 'W', 'W', 'W', 'N2', 'W', 'N2', 'N2', 'N2', 'N2', 'N2', 'W', 'N2', 'N2', 'N2', 'N2', 'N2', 'W', 'N2', 'N2', 'N2', 'N2', 'N2', 'N3', 'N2', 'N2', 'N3', 'W', 'N2', 'N2', 'N2', 'N2', 'N2', 'N2', 'W', 'N3', 'N2', 'N2', 'W', 'R', 'W', 'N2', 'N2', 'N2', 'N2', 'N2', 'N2', 'W', 'N2', 'W', 'W', 'W', 'W', 'W', 'W', 'W', 'W', 'W', 'W']\n",
      "Sleep Score: 525.1666666666666\n"
     ]
    },
    {
     "name": "stderr",
     "output_type": "stream",
     "text": [
      "C:\\Users\\dumbl\\anaconda3\\Lib\\site-packages\\sklearn\\base.py:347: InconsistentVersionWarning: Trying to unpickle estimator LabelEncoder from version 0.24.2 when using version 1.3.0. This might lead to breaking code or invalid results. Use at your own risk. For more info please refer to:\n",
      "https://scikit-learn.org/stable/model_persistence.html#security-maintainability-limitations\n",
      "  warnings.warn(\n"
     ]
    }
   ],
   "source": [
    "current_dir = os.getcwd()\n",
    "csv_file_path = os.path.join(current_dir, \"sleep_eeg.csv\")\n",
    "sleep_score_value = calculate_sleep_score(csv_file_path)\n",
    "print(\"Sleep Score:\", sleep_score_value)"
   ]
  },
  {
   "cell_type": "code",
   "execution_count": 7,
   "id": "f5834596-cb7a-4c89-a3b1-a01207a7fbbd",
   "metadata": {
    "tags": []
   },
   "outputs": [
    {
     "name": "stdout",
     "output_type": "stream",
     "text": [
      "Creating RawArray with float64 data, n_channels=4, n_times=5395440\n",
      "    Range : 0 ... 5395439 =      0.000 ... 21075.934 secs\n",
      "Ready.\n",
      "NOTE: pick_channels() is a legacy function. New code should use inst.pick(...).\n"
     ]
    },
    {
     "name": "stderr",
     "output_type": "stream",
     "text": [
      "C:\\Users\\dumbl\\anaconda3\\Lib\\site-packages\\sklearn\\base.py:347: InconsistentVersionWarning: Trying to unpickle estimator LabelEncoder from version 0.24.2 when using version 1.3.0. This might lead to breaking code or invalid results. Use at your own risk. For more info please refer to:\n",
      "https://scikit-learn.org/stable/model_persistence.html#security-maintainability-limitations\n",
      "  warnings.warn(\n"
     ]
    }
   ],
   "source": [
    "sleep_stages = convert_csv_to_stages(\"sleep_eeg.csv\")"
   ]
  },
  {
   "cell_type": "code",
   "execution_count": 36,
   "id": "fd9fdc59-161a-4f1e-a79e-4357cf08cdd5",
   "metadata": {
    "tags": []
   },
   "outputs": [],
   "source": [
    "sleep_stages = np.array(sleep_stages)"
   ]
  },
  {
   "cell_type": "code",
   "execution_count": 42,
   "id": "c786b071-78c2-40e1-9534-fd9d019c5940",
   "metadata": {
    "tags": []
   },
   "outputs": [],
   "source": [
    "def remove_leading(arr, target_element):\n",
    "    first_diff_index = np.argmax(arr != target_element)\n",
    "    return arr[first_diff_index:]\n",
    "def remove_trailing(arr, target_element):\n",
    "    # Reverse the array to find the index of the last non-target element\n",
    "    reversed_arr = arr[::-1]\n",
    "    \n",
    "    # Find the first index in the reversed array that is not the target_element\n",
    "    first_non_target_index = np.argmax(reversed_arr != target_element)\n",
    "    \n",
    "    # Slice the original array up to this point from the end\n",
    "    return arr[:-first_non_target_index] if first_non_target_index > 0 else arr\n",
    "def calculate_score(n3_p, d_p, w_p):\n",
    "    n3_score = min(n3_p * (20 / 25), 20)  \n",
    "    \n",
    "    d_score = min(n3_p * (60 / 70), 60)  \n",
    "    \n",
    "    if w_p <= 10:\n",
    "        w_score = 20 \n",
    "    else:\n",
    "        w_score = max(20 - (w_p - 10) * (20 / 10), 0) \n",
    "    total_score = n3_score + d_score + w_score\n",
    "    return total_score"
   ]
  },
  {
   "cell_type": "code",
   "execution_count": null,
   "id": "e381b347-e937-4929-ad9c-fda3e67ce64f",
   "metadata": {},
   "outputs": [],
   "source": [
    "    \n",
    "    \n",
    "    sleep_stages = remove_leading(sleep_stages, 'W')\n",
    "    sleep_stages = remove_trailing(sleep_stages, 'W')\n",
    "    w_p = (np.count_nonzero(sleep_stages == \"W\")/sleep_stages.size) *100\n",
    "    n1_p = (np.count_nonzero(sleep_stages == \"N1\")/sleep_stages.size) *100\n",
    "    n2_p = (np.count_nonzero(sleep_stages == \"N2\")/sleep_stages.size) *100\n",
    "    n3_p = (np.count_nonzero(sleep_stages == \"N3\")/sleep_stages.size) *100\n",
    "    r_p = (np.count_nonzero(sleep_stages == \"R\")/sleep_stages.size) *100\n",
    "    d_p = n2_p + n3_p\n",
    "    return calculate_score(n3_p,d_p,w_p)"
   ]
  },
  {
   "cell_type": "code",
   "execution_count": 66,
   "id": "e4686335-e595-45bd-a55c-03818ebc9039",
   "metadata": {
    "tags": []
   },
   "outputs": [],
   "source": [
    "w_p = (np.count_nonzero(sleep_stages == \"W\")/sleep_stages.size) *100\n",
    "n1_p = (np.count_nonzero(sleep_stages == \"N1\")/sleep_stages.size) *100\n",
    "n2_p = (np.count_nonzero(sleep_stages == \"N2\")/sleep_stages.size) *100\n",
    "n3_p = (np.count_nonzero(sleep_stages == \"N3\")/sleep_stages.size) *100\n",
    "r_p = (np.count_nonzero(sleep_stages == \"R\")/sleep_stages.size) *100\n",
    "\n",
    "d_p = n2_p + n3_p\n",
    "# w_op = \n",
    "# n3_op = 25"
   ]
  },
  {
   "cell_type": "code",
   "execution_count": 67,
   "id": "c27a4516-b63e-473d-80e4-0b423e9f13d4",
   "metadata": {
    "tags": []
   },
   "outputs": [],
   "source": [
    "# w_p = 9\n",
    "# n3_p = 25"
   ]
  },
  {
   "cell_type": "code",
   "execution_count": 72,
   "id": "c1e6f086-ab49-428c-8d68-d717fd53e9ae",
   "metadata": {
    "tags": []
   },
   "outputs": [
    {
     "data": {
      "text/plain": [
       "66.79920477137176"
      ]
     },
     "execution_count": 72,
     "metadata": {},
     "output_type": "execute_result"
    }
   ],
   "source": [
    "d_p"
   ]
  },
  {
   "cell_type": "code",
   "execution_count": 77,
   "id": "4f05cdd0-91bb-47ec-b087-84b896f24aaf",
   "metadata": {
    "tags": []
   },
   "outputs": [],
   "source": [
    "def calculate_score(n3_p, d_p, w_p):\n",
    "    n3_score = min(n3_p * (20 / 25), 20)  \n",
    "    \n",
    "    d_score = min(n3_p * (60 / 70), 60)  \n",
    "    \n",
    "    if w_p <= 10:\n",
    "        w_score = 20 \n",
    "    else:\n",
    "        w_score = max(20 - (w_p - 10) * (20 / 10), 0) \n",
    "    total_score = n3_score + d_score + w_score\n",
    "    return total_score"
   ]
  },
  {
   "cell_type": "code",
   "execution_count": 78,
   "id": "8f306c7b-dbab-4080-b2a7-1f6cef00f704",
   "metadata": {
    "tags": []
   },
   "outputs": [
    {
     "data": {
      "text/plain": [
       "29.781312127236582"
      ]
     },
     "execution_count": 78,
     "metadata": {},
     "output_type": "execute_result"
    }
   ],
   "source": [
    "calculate_score(n3_p,d_p,w_p)"
   ]
  },
  {
   "cell_type": "code",
   "execution_count": 79,
   "id": "4b331275-868e-42a4-b116-f3fc7d8ccf45",
   "metadata": {
    "tags": []
   },
   "outputs": [
    {
     "data": {
      "text/plain": [
       "array(['N2', 'W', 'W', 'W', 'W', 'W', 'W', 'W', 'W', 'W', 'W', 'W', 'W',\n",
       "       'W', 'W', 'N2', 'W', 'N2', 'N2', 'N2', 'N2', 'W', 'N2', 'N2', 'W',\n",
       "       'N2', 'N2', 'W', 'N2', 'N2', 'N2', 'N2', 'N2', 'N2', 'N2', 'W',\n",
       "       'N2', 'N2', 'N2', 'N2', 'N2', 'N3', 'N3', 'N3', 'N3', 'N3', 'N3',\n",
       "       'N3', 'N2', 'R', 'R', 'N3', 'W', 'N2', 'N2', 'N2', 'N2', 'R', 'R',\n",
       "       'R', 'R', 'R', 'R', 'R', 'R', 'R', 'R', 'R', 'R', 'R', 'N3', 'N3',\n",
       "       'N3', 'N3', 'N3', 'N3', 'N3', 'N3', 'N3', 'R', 'R', 'R', 'R', 'N2',\n",
       "       'N3', 'N2', 'N3', 'N3', 'N3', 'N3', 'N3', 'N3', 'N3', 'N3', 'N3',\n",
       "       'N3', 'N3', 'R', 'R', 'W', 'N2', 'N2', 'N3', 'N3', 'N3', 'N3',\n",
       "       'N2', 'N2', 'N2', 'N2', 'N2', 'N2', 'W', 'N2', 'N2', 'N2', 'N2',\n",
       "       'N2', 'N2', 'N2', 'N3', 'N3', 'N3', 'N3', 'N3', 'N3', 'N3', 'N3',\n",
       "       'N3', 'N3', 'N3', 'N3', 'N3', 'N3', 'N3', 'N3', 'N3', 'N3', 'N3',\n",
       "       'N3', 'N3', 'N3', 'N3', 'N3', 'N3', 'N3', 'N3', 'N3', 'N3', 'N3',\n",
       "       'N3', 'N3', 'N3', 'N3', 'N3', 'N3', 'N3', 'N3', 'N3', 'N3', 'R',\n",
       "       'N3', 'N3', 'N3', 'R', 'R', 'R', 'N3', 'N3', 'N3', 'N3', 'N3',\n",
       "       'N3', 'N3', 'N3', 'N3', 'N3', 'N3', 'N3', 'N3', 'N3', 'N3', 'N3',\n",
       "       'N3', 'N3', 'N2', 'N2', 'W', 'W', 'W', 'W', 'W', 'W', 'W', 'W',\n",
       "       'W', 'W', 'W', 'W', 'N2', 'N2', 'W', 'N2', 'N2', 'W', 'N2', 'N2',\n",
       "       'N2', 'W', 'N2', 'N2', 'N2', 'N2', 'N2', 'N2', 'N2', 'N2', 'N2',\n",
       "       'N2', 'N2', 'N2', 'N2', 'N2', 'N2', 'N2', 'N2', 'N2', 'N2', 'N2',\n",
       "       'N2', 'N2', 'N2', 'W', 'N2', 'W', 'N2', 'N2', 'N2', 'W', 'N2', 'W',\n",
       "       'W', 'W', 'W', 'N2', 'W', 'N2', 'W', 'N2', 'N2', 'N2', 'N2', 'N2',\n",
       "       'W', 'W', 'W', 'N2', 'W', 'N2', 'N2', 'W', 'W', 'W', 'W', 'W', 'W',\n",
       "       'W', 'W', 'W', 'W', 'W', 'W', 'W', 'N2', 'W', 'W', 'W', 'W', 'W',\n",
       "       'W', 'W', 'W', 'W', 'W', 'W', 'W', 'W', 'W', 'W', 'N2', 'W', 'W',\n",
       "       'W', 'N3', 'W', 'W', 'W', 'W', 'N2', 'N2', 'N2', 'N2', 'N2', 'W',\n",
       "       'W', 'W', 'W', 'W', 'N2', 'W', 'N2', 'N2', 'W', 'N2', 'N2', 'N2',\n",
       "       'N2', 'N2', 'W', 'W', 'N2', 'N2', 'W', 'W', 'W', 'W', 'W', 'W',\n",
       "       'W', 'W', 'N2', 'N2', 'N2', 'N2', 'W', 'N2', 'N2', 'N2', 'N2',\n",
       "       'N2', 'N2', 'W', 'N2', 'N2', 'N2', 'N2', 'N2', 'N2', 'N2', 'W',\n",
       "       'W', 'W', 'W', 'W', 'N2', 'N2', 'N2', 'N2', 'N2', 'W', 'N2', 'W',\n",
       "       'W', 'W', 'W', 'R', 'R', 'N2', 'N2', 'N2', 'N2', 'N2', 'N2', 'W',\n",
       "       'N2', 'W', 'R', 'N2', 'W', 'W', 'N2', 'W', 'W', 'W', 'W', 'W', 'W',\n",
       "       'N2', 'N2', 'N2', 'N2', 'N2', 'N2', 'N2', 'N2', 'N2', 'N2', 'N2',\n",
       "       'N2', 'N2', 'N2', 'N2', 'N2', 'N2', 'N2', 'N2', 'N2', 'N2', 'R',\n",
       "       'N2', 'N2', 'N2', 'N2', 'N2', 'N2', 'N2', 'N2', 'N2', 'N2', 'N2',\n",
       "       'N2', 'N2', 'N2', 'N2', 'N2', 'N2', 'N2', 'N2', 'N2', 'N2', 'N2',\n",
       "       'N2', 'N2', 'N2', 'N2', 'N2', 'N2', 'N2', 'N2', 'N2', 'N2', 'N2',\n",
       "       'N2', 'N2', 'N2', 'N2', 'N2', 'N2', 'N2', 'N2', 'N2', 'W', 'N2',\n",
       "       'N2', 'W', 'W', 'W', 'W', 'N2', 'W', 'N2', 'N2', 'N2', 'N2', 'N2',\n",
       "       'W', 'N2', 'N2', 'N2', 'N2', 'N2', 'W', 'N2', 'N2', 'N2', 'N2',\n",
       "       'N2', 'N3', 'N2', 'N2', 'N3', 'W', 'N2', 'N2', 'N2', 'N2', 'N2',\n",
       "       'N2', 'W', 'N3', 'N2', 'N2', 'W', 'R', 'W', 'N2', 'N2', 'N2', 'N2',\n",
       "       'N2', 'N2', 'W', 'N2'], dtype='<U2')"
      ]
     },
     "execution_count": 79,
     "metadata": {},
     "output_type": "execute_result"
    }
   ],
   "source": [
    "sleep_stages"
   ]
  },
  {
   "cell_type": "code",
   "execution_count": 86,
   "id": "756f94a1-9315-4a6a-b269-af8e16c3f920",
   "metadata": {
    "tags": []
   },
   "outputs": [
    {
     "data": {
      "image/png": "[encoded data removed]",
      "text/plain": [
       "<Figure size 640x480 with 1 Axes>"
      ]
     },
     "metadata": {},
     "output_type": "display_data"
    }
   ],
   "source": [
    "hyp = Hypnogram(sleep_stages, freq=\"30s\")\n",
    "ax = hyp.plot_hypnogram(lw=2, fill_color=\"thistle\")"
   ]
  },
  {
   "cell_type": "code",
   "execution_count": null,
   "id": "91ee3b68-6883-42cf-8c39-8a1b0d1f783d",
   "metadata": {},
   "outputs": [],
   "source": []
  }
 ],
 "metadata": {
  "kernelspec": {
   "display_name": "Python 3 (ipykernel)",
   "language": "python",
   "name": "python3"
  },
  "language_info": {
   "codemirror_mode": {
    "name": "ipython",
    "version": 3
   },
   "file_extension": ".py",
   "mimetype": "text/x-python",
   "name": "python",
   "nbconvert_exporter": "python",
   "pygments_lexer": "ipython3",
   "version": "3.11.5"
  }
 },
 "nbformat": 4,
 "nbformat_minor": 5
}
